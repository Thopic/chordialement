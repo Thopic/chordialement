{
 "cells": [
  {
   "cell_type": "markdown",
   "metadata": {},
   "source": [
    "# Chords, examples"
   ]
  },
  {
   "cell_type": "code",
   "execution_count": 2,
   "metadata": {},
   "outputs": [],
   "source": [
    "import pandas as pd\n",
    "from chordialement import chord_diagram"
   ]
  },
  {
   "cell_type": "code",
   "execution_count": 14,
   "metadata": {},
   "outputs": [
    {
     "data": {
      "text/plain": [
       "ActScene\n",
       "(1, 1)            {FRANCISCO, MARCELLUS, BERNARDO, HORATIO}\n",
       "(1, 2)    {MARCELLUS, BERNARDO, All, LAERTES, QUEEN GERT...\n",
       "(1, 3)                    {LORD POLONIUS, LAERTES, OPHELIA}\n",
       "(1, 4)                         {MARCELLUS, HAMLET, HORATIO}\n",
       "(1, 5)                  {Ghost, MARCELLUS, HAMLET, HORATIO}\n",
       "(2, 1)                   {LORD POLONIUS, REYNALDO, OPHELIA}\n",
       "(2, 2)    {GUILDENSTERN, QUEEN GERTRUDE, LORD POLONIUS, ...\n",
       "(3, 1)    {QUEEN GERTRUDE, GUILDENSTERN, LORD POLONIUS, ...\n",
       "(3, 2)    {Prologue, KING CLAUDIUS, All, QUEEN GERTRUDE,...\n",
       "(3, 3)    {GUILDENSTERN, LORD POLONIUS, ROSENCRANTZ, KIN...\n",
       "(3, 4)       {LORD POLONIUS, Ghost, HAMLET, QUEEN GERTRUDE}\n",
       "(4, 1)                      {KING CLAUDIUS, QUEEN GERTRUDE}\n",
       "(4, 2)                  {ROSENCRANTZ, GUILDENSTERN, HAMLET}\n",
       "(4, 3)                 {KING CLAUDIUS, HAMLET, ROSENCRANTZ}\n",
       "(4, 4)    {Captain, HAMLET, PRINCE FORTINBRAS, ROSENCRANTZ}\n",
       "(4, 5)    {Danes, LAERTES, QUEEN GERTRUDE, HORATIO, Gent...\n",
       "(4, 6)                     {First Sailor, Servant, HORATIO}\n",
       "(4, 7)    {KING CLAUDIUS, LAERTES, QUEEN GERTRUDE, Messe...\n",
       "(5, 1)    {KING CLAUDIUS, First Clown, First Priest, All...\n",
       "(5, 2)    {All, LAERTES, OSRIC, QUEEN GERTRUDE, PRINCE F...\n",
       "Name: Player, dtype: object"
      ]
     },
     "execution_count": 14,
     "metadata": {},
     "output_type": "execute_result"
    }
   ],
   "source": [
    "df = pd.read_csv(\"Shakespeare_data.csv.gz\")\n",
    "df = df.dropna(subset=[\"ActSceneLine\"])\n",
    "\n",
    "title = \"Hamlet\"\n",
    "df = df[df.Play == title]\n",
    "\n",
    "df[\"ActScene\"] = df.ActSceneLine.apply(lambda x: tuple(x.split(\".\")[:-1]))\n",
    "df.groupby(\"ActScene\").Player.apply(set)"
   ]
  },
  {
   "cell_type": "code",
   "execution_count": 10,
   "metadata": {},
   "outputs": [
    {
     "data": {
      "text/plain": [
       "Hamlet                      4020\n",
       "Coriolanus                  3768\n",
       "Cymbeline                   3757\n",
       "Richard III                 3705\n",
       "Antony and Cleopatra        3565\n",
       "Othello                     3563\n",
       "King Lear                   3500\n",
       "Troilus and Cressida        3491\n",
       "A Winters Tale              3364\n",
       "Henry VIII                  3279\n",
       "Henry V                     3233\n",
       "Henry VI Part 2             3130\n",
       "Romeo and Juliet            3096\n",
       "Henry IV                    3044\n",
       "Henry VI Part 3             2939\n",
       "Alls well that ends well    2925\n",
       "Loves Labours Lost          2878\n",
       "Measure for measure         2840\n",
       "Richard II                  2800\n",
       "Henry VI Part 1             2777\n",
       "As you like it              2677\n",
       "Merchant of Venice          2665\n",
       "King John                   2649\n",
       "Taming of the Shrew         2637\n",
       "Merry Wives of Windsor      2614\n",
       "Julius Caesar               2597\n",
       "Much Ado about nothing      2584\n",
       "Titus Andronicus            2559\n",
       "Timon of Athens             2500\n",
       "Twelfth Night               2483\n",
       "Pericles                    2472\n",
       "macbeth                     2390\n",
       "The Tempest                 2289\n",
       "Two Gentlemen of Verona     2234\n",
       "A Midsummer nights dream    2162\n",
       "A Comedy of Errors          1967\n",
       "Name: Play, dtype: int64"
      ]
     },
     "execution_count": 10,
     "metadata": {},
     "output_type": "execute_result"
    }
   ],
   "source": [
    "df.Play.value_counts()"
   ]
  },
  {
   "cell_type": "code",
   "execution_count": null,
   "metadata": {},
   "outputs": [],
   "source": []
  }
 ],
 "metadata": {
  "kernelspec": {
   "display_name": "Python 3",
   "language": "python",
   "name": "python3"
  },
  "language_info": {
   "codemirror_mode": {
    "name": "ipython",
    "version": 3
   },
   "file_extension": ".py",
   "mimetype": "text/x-python",
   "name": "python",
   "nbconvert_exporter": "python",
   "pygments_lexer": "ipython3",
   "version": "3.6.7"
  }
 },
 "nbformat": 4,
 "nbformat_minor": 2
}
